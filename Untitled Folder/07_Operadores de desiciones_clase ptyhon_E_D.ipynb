{
 "cells": [
  {
   "cell_type": "code",
   "execution_count": 1,
   "metadata": {},
   "outputs": [
    {
     "name": "stdout",
     "output_type": "stream",
     "text": [
      "el valor de x es:  5\n"
     ]
    }
   ],
   "source": [
    "x=5\n",
    "print('el valor de x es: ',x)"
   ]
  },
  {
   "cell_type": "markdown",
   "metadata": {},
   "source": [
    "# Operadores de Desición\n",
    "Identado, condiciones booleana \"if\""
   ]
  },
  {
   "cell_type": "code",
   "execution_count": 7,
   "metadata": {
    "scrolled": true
   },
   "outputs": [
    {
     "name": "stdout",
     "output_type": "stream",
     "text": [
      "Introduzca un número: 5\n",
      "El número que escribiste es igual a 5\n"
     ]
    }
   ],
   "source": [
    "#\"if\" se usa para ejecutar un código si esa condición es real ejemplo:\n",
    "x=(int(input('Introduzca un número: ')))\n",
    "if x==5: #los dos iguales son para declarar esa igualdad y no asignar valor a la variable\n",
    "    print('El número que escribiste es igual a 5') #se va a imprimir porque el número que puse es 5"
   ]
  },
  {
   "cell_type": "code",
   "execution_count": 9,
   "metadata": {},
   "outputs": [
    {
     "name": "stdout",
     "output_type": "stream",
     "text": [
      "Introduzca un número: 4\n",
      "El no. escrito es menor a 5\n"
     ]
    }
   ],
   "source": [
    "y=int(input('Introduzca un número: '))\n",
    "if y<5:\n",
    "    print('El no. escrito es menor a 5')\n",
    "elif y<10:\n",
    "    print('el no. que escribiste es menor a 10 y mayor a 5')\n",
    "else:\n",
    "    print('el no. que escribiste escapa del rango del 1 al 10')\n",
    "#if es el primer condicionante , elif, segundo y por último else, es a lo que corresponde a cualquier otra cosa. "
   ]
  },
  {
   "cell_type": "code",
   "execution_count": 15,
   "metadata": {},
   "outputs": [
    {
     "name": "stdout",
     "output_type": "stream",
     "text": [
      "escribe un número: 4\n",
      "Tu no. se encuentra en el rango de 0 a 10\n"
     ]
    }
   ],
   "source": [
    "z=int(input('escribe un número: '))\n",
    "if z>0 and z<10:  #el \"and\" es para agregar parámetros\n",
    "    print('Tu no. se encuentra en el rango de 0 a 10')\n",
    "else:\n",
    "    print('Tu no. no se encuentra en el rango de 0 a 10')"
   ]
  },
  {
   "cell_type": "code",
   "execution_count": null,
   "metadata": {},
   "outputs": [],
   "source": []
  }
 ],
 "metadata": {
  "kernelspec": {
   "display_name": "Python 3",
   "language": "python",
   "name": "python3"
  },
  "language_info": {
   "codemirror_mode": {
    "name": "ipython",
    "version": 3
   },
   "file_extension": ".py",
   "mimetype": "text/x-python",
   "name": "python",
   "nbconvert_exporter": "python",
   "pygments_lexer": "ipython3",
   "version": "3.7.6"
  }
 },
 "nbformat": 4,
 "nbformat_minor": 4
}
