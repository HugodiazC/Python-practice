{
 "cells": [
  {
   "cell_type": "markdown",
   "metadata": {},
   "source": [
    "## Examen "
   ]
  },
  {
   "cell_type": "code",
   "execution_count": 9,
   "metadata": {},
   "outputs": [],
   "source": [
    "import math"
   ]
  },
  {
   "cell_type": "code",
   "execution_count": 3,
   "metadata": {},
   "outputs": [
    {
     "name": "stdout",
     "output_type": "stream",
     "text": [
      "Enter a number4\n",
      "4.0 your number is positive\n"
     ]
    }
   ],
   "source": [
    "number=float(input('Enter a number'))\n",
    "\n",
    "if number<0:\n",
    "    print(number, 'your number is negativo')\n",
    "        \n",
    "else :\n",
    "    print(number, 'your number is positive')"
   ]
  },
  {
   "cell_type": "code",
   "execution_count": 4,
   "metadata": {},
   "outputs": [
    {
     "name": "stdout",
     "output_type": "stream",
     "text": [
      "Enter a number: 3\n",
      "your number is between -5 y 5\n"
     ]
    }
   ],
   "source": [
    "number=float(input('Enter a number: '))\n",
    "\n",
    "if number>-6 and number<6:\n",
    "    print('your number is between -5 y 5')\n",
    "\n",
    "else:\n",
    "    print('your number is not between -5 y 5')"
   ]
  },
  {
   "cell_type": "code",
   "execution_count": 7,
   "metadata": {},
   "outputs": [
    {
     "name": "stdout",
     "output_type": "stream",
     "text": [
      "Enter the firts number4\n",
      "Enter the second number5\n",
      "the result is:  4.0\n"
     ]
    }
   ],
   "source": [
    "a=float(input('Enter the firts number'))\n",
    "b=float(input('Enter the second number'))\n",
    "result=a%b\n",
    "print('the result is: ', result)"
   ]
  },
  {
   "cell_type": "code",
   "execution_count": null,
   "metadata": {},
   "outputs": [],
   "source": [
    "#Escribe una secuencia de instrucciones que permitan leer un número entero es cuadrado perfecto o no \n",
    "\n",
    "number=int(input('Enter a number'))\n",
    "result=math.sqrt(number)\n",
    "if number == int:\n",
    "    print('The result is cuadrado perfecto')\n",
    "else:\n",
    "    print('Your number is not cuadrado perfecto')"
   ]
  },
  {
   "cell_type": "code",
   "execution_count": null,
   "metadata": {},
   "outputs": [],
   "source": []
  }
 ],
 "metadata": {
  "kernelspec": {
   "display_name": "Python 3",
   "language": "python",
   "name": "python3"
  },
  "language_info": {
   "codemirror_mode": {
    "name": "ipython",
    "version": 3
   },
   "file_extension": ".py",
   "mimetype": "text/x-python",
   "name": "python",
   "nbconvert_exporter": "python",
   "pygments_lexer": "ipython3",
   "version": "3.7.6"
  }
 },
 "nbformat": 4,
 "nbformat_minor": 4
}
