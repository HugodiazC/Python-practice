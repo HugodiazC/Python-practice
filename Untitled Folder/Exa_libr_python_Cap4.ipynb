{
 "cells": [
  {
   "cell_type": "markdown",
   "metadata": {},
   "source": [
    "## Examen Libro Python"
   ]
  },
  {
   "cell_type": "code",
   "execution_count": 1,
   "metadata": {},
   "outputs": [
    {
     "name": "stdout",
     "output_type": "stream",
     "text": [
      "Enter the speed: 50\n",
      "Speed is normal\n"
     ]
    }
   ],
   "source": [
    "speed=float(input('Enter the speed: '))\n",
    "if speed>=24 and speed<=56:\n",
    "    print('Speed is normal')\n",
    "else:\n",
    "    print('Speed adnormal')"
   ]
  },
  {
   "cell_type": "code",
   "execution_count": 2,
   "metadata": {},
   "outputs": [
    {
     "name": "stdout",
     "output_type": "stream",
     "text": [
      "Enter the number of points: 5\n",
      "Invalid points\n"
     ]
    }
   ],
   "source": [
    "points=float(input('Enter the number of points: '))\n",
    "if points>=9 and points<=51:\n",
    "    print('Valid points')\n",
    "else:\n",
    "    print('Invalid points')"
   ]
  },
  {
   "cell_type": "code",
   "execution_count": 7,
   "metadata": {},
   "outputs": [
    {
     "name": "stdout",
     "output_type": "stream",
     "text": [
      "Enter a number: 10\n",
      "X\n"
     ]
    }
   ],
   "source": [
    "number=float(input('Enter a number: '))\n",
    "if number==1:\n",
    "    print('I')\n",
    "elif number==2:\n",
    "    print('II')\n",
    "elif number==3:\n",
    "    print('III')\n",
    "elif number==4:\n",
    "    print('IV')\n",
    "elif number==5:\n",
    "    print('V')\n",
    "elif number==6:\n",
    "    print('VI')\n",
    "elif number==7:\n",
    "    print('VII')\n",
    "elif number==8:\n",
    "    print('VIII')\n",
    "elif number==9:\n",
    "    print('IX')\n",
    "elif number==10:\n",
    "    print('X')\n",
    "else:\n",
    "    print('Error, number out the rage')\n",
    "    "
   ]
  },
  {
   "cell_type": "code",
   "execution_count": 10,
   "metadata": {},
   "outputs": [
    {
     "name": "stdout",
     "output_type": "stream",
     "text": [
      "Enter the length of the firts rectangule: 34\n",
      "Enter the width of the firts rectangule: 43\n",
      "Enter the length of the second rectangule: 34\n",
      "Enter the width of the second rectangule: 43\n",
      "both of them have the same area\n"
     ]
    }
   ],
   "source": [
    "a_l=float(input('Enter the length of the firts rectangule: '))\n",
    "b_w=float(input('Enter the width of the firts rectangule: '))\n",
    "c_l=float(input('Enter the length of the second rectangule: '))\n",
    "d_w=float(input('Enter the width of the second rectangule: '))\n",
    "def main():\n",
    "    area1=a_l*b_w\n",
    "    area2=c_l*d_w\n",
    "    if area1>area2:\n",
    "        print('The firts rectangule area is bigger than the second')\n",
    "    elif area1==area2:\n",
    "        print('both of them have the same area')\n",
    "    else:\n",
    "        print('The second rectangule area is bigger than the firts')\n",
    "main()"
   ]
  },
  {
   "cell_type": "code",
   "execution_count": 15,
   "metadata": {},
   "outputs": [
    {
     "name": "stdout",
     "output_type": "stream",
     "text": [
      "Enter the weight in kilograms: 100\n",
      "the object is in range\n"
     ]
    }
   ],
   "source": [
    "mass=float(input('Enter the weight in kilograms: '))\n",
    "def main():\n",
    "    newtons=mass*9.8\n",
    "    if newtons>1000:\n",
    "        print('The object is too heavy')\n",
    "    elif newtons<10:\n",
    "        print('the object is too light')\n",
    "    else:\n",
    "        print('the object is in range')\n",
    "main()\n",
    "            "
   ]
  },
  {
   "cell_type": "code",
   "execution_count": 17,
   "metadata": {},
   "outputs": [
    {
     "name": "stdout",
     "output_type": "stream",
     "text": [
      "Enter the month in number: 9\n",
      "Enter the day: 10\n",
      "Enter the year in two digits number: 90\n",
      "this is a magic year\n"
     ]
    }
   ],
   "source": [
    "#6/10/60 , 10 .06 .1960 mes y día igual a año\n",
    "mes=float(input('Enter the month in number: '))\n",
    "dia=float(input('Enter the day: '))\n",
    "año=float(input('Enter the year in two digits number: '))\n",
    "def main():\n",
    "    mes_dia=mes*dia\n",
    "    \n",
    "    if mes_dia==año:\n",
    "        print('this is a magic year')\n",
    "    else: \n",
    "        print('this is not a magic year')\n",
    "main()"
   ]
  },
  {
   "cell_type": "code",
   "execution_count": 37,
   "metadata": {},
   "outputs": [
    {
     "name": "stdout",
     "output_type": "stream",
     "text": [
      "Enter the first primary color: rojo\n",
      "Enter the second primary color: azul\n",
      "violeta\n"
     ]
    }
   ],
   "source": [
    "#mezcla de colores\n",
    "color1=str(input('Enter the first primary color: '))\n",
    "color2=str(input('Enter the second primary color: '))\n",
    "if color1=='amarillo' and color2=='rojo':\n",
    "    print('naranja')\n",
    "elif color2=='amarillo' and color1=='rojo':\n",
    "    print('naranja')\n",
    "elif color1=='rojo' and color2=='azul':\n",
    "    print('violeta')\n",
    "elif color2=='rojo' and color1=='azul':\n",
    "    print('violeta')\n",
    "elif color1=='azul' and color2=='amarillo':\n",
    "    print('verde')\n",
    "elif color2=='azul' and color1=='amarillo':\n",
    "    print('verde')\n",
    "else:\n",
    "    print('Error')"
   ]
  },
  {
   "cell_type": "code",
   "execution_count": 42,
   "metadata": {},
   "outputs": [
    {
     "name": "stdout",
     "output_type": "stream",
     "text": [
      "this a program game \"dollar change\", enter the number of coins requiered to make a exatly a dollar\n",
      "Enter the number of pennis: 10\n",
      "Enter the number of nickels: 2\n",
      "Enter the number of dimes: 3\n",
      "Enter the number of quarters: 2\n",
      "Congratulations!, you win!\n"
     ]
    }
   ],
   "source": [
    "#change for dollar game\n",
    "print('this a program game \"dollar change\", enter the number of coins requiered to make a exatly a dollar')\n",
    "penni=float(input('Enter the number of pennis: '))\n",
    "nickels=float(input('Enter the number of nickels: '))\n",
    "dimes=float(input('Enter the number of dimes: '))\n",
    "quarters=float(input('Enter the number of quarters: '))\n",
    "def main():\n",
    "    nickels_c=nickels*5\n",
    "    dimes_c=dimes*10\n",
    "    quartes_c=quarters*25\n",
    "    if penni+nickels_c+dimes_c+quartes_c==100:\n",
    "        print('Congratulations!, you win!')\n",
    "    else:\n",
    "        print('You fail, try again')\n",
    "main()"
   ]
  },
  {
   "cell_type": "code",
   "execution_count": 1,
   "metadata": {},
   "outputs": [
    {
     "name": "stdout",
     "output_type": "stream",
     "text": [
      "Enter the number of books you sold this month: 50\n",
      "the number of points you got this month are:  735.0\n"
     ]
    }
   ],
   "source": [
    "books=float(input('Enter the number of books you sold this month: '))\n",
    "def main():\n",
    "    if books==0:\n",
    "        print('the number of points you got this month are: 0')\n",
    "    elif books==1:\n",
    "        print('the number of points you got this month are: 5')\n",
    "    elif books==2:\n",
    "        print('the number of points you got this month are: 15')\n",
    "    elif books==3:\n",
    "        print('the number of points you got this month are: 30')\n",
    "    elif books==4:\n",
    "        print('the number of points you got this month are: 60')\n",
    "    elif books>4:\n",
    "        sobrante=books%4\n",
    "        totalpoints=((books//4)*60)\n",
    "        if sobrante==1:\n",
    "            total_final1=totalpoints+5\n",
    "            print('the number of points you got this month are: ',total_final1)\n",
    "        elif sobrante==2:\n",
    "            total_final2=totalpoints+15\n",
    "            print('the number of points you got this month are: ',total_final2)\n",
    "        elif sobrante==3:\n",
    "            total_final3=totalpoints+30\n",
    "            print('the number of points you got this month are: ',total_final3)\n",
    "        else:\n",
    "            print('the number of points you got this month are: ',totalpoints)\n",
    "            \n",
    "main()\n",
    "        "
   ]
  },
  {
   "cell_type": "code",
   "execution_count": 11,
   "metadata": {},
   "outputs": [
    {
     "name": "stdout",
     "output_type": "stream",
     "text": [
      "Enter ths weight in pounds of your package : 25\n",
      "the charges of your packages are: 9.8\n"
     ]
    }
   ],
   "source": [
    "#ask the weight of teh package and display the shipping charges\n",
    "weight=float(input('Enter ths weight in pounds of your package : '))\n",
    "def main():\n",
    "    if weight<2:\n",
    "        print('the charges of your packages are:$1.10 ')\n",
    "    elif weight>2 and weight <=6:\n",
    "        print('the charges of your packages are:$2.20 ')\n",
    "    elif weight>6 and weight <=10:\n",
    "        print('the charges of your packages are:$3.70')\n",
    "    elif weight>10:\n",
    "        sobrante=weight%10\n",
    "        unidad_10=(weight//10)*3.8\n",
    "        if sobrante==0:\n",
    "            print('the charges of your packages are:$3.80')\n",
    "        elif sobrante<2:\n",
    "            total_1=unidad_10+1.10\n",
    "            print('the charges of your packages are:',total_1)\n",
    "        elif sobrante>2 and sobrante<=6:\n",
    "            total_2=unidad_10+2.20\n",
    "            print('the charges of your packages are:',total_2)\n",
    "        elif sobrante>6 and sobrante<=10:\n",
    "            total_3=unidad_10+3.7\n",
    "            print('the charges of your packages are:',total_3)\n",
    "main()"
   ]
  },
  {
   "cell_type": "code",
   "execution_count": 12,
   "metadata": {},
   "outputs": [
    {
     "name": "stdout",
     "output_type": "stream",
     "text": [
      "5 0\n",
      "9.8\n"
     ]
    }
   ],
   "source": [
    "a=21//4 #división exacta\n",
    "b=8%4 #sobrante\n",
    "print (a,b)\n",
    "c=3.8+3.8+2.2\n",
    "print(c)"
   ]
  },
  {
   "cell_type": "code",
   "execution_count": 14,
   "metadata": {},
   "outputs": [
    {
     "name": "stdout",
     "output_type": "stream",
     "text": [
      "Enter your body weight in kilos: 47\n",
      "Enter your height in meters: 1.63\n",
      "your BMI is:  17.687998034149636  you are underweight\n"
     ]
    }
   ],
   "source": [
    "def main():\n",
    "    weight_k=float(input('Enter your body weight in kilos: '))\n",
    "    height_m=float(input('Enter your height in meters: '))\n",
    "    BMI(weight_k,height_m)\n",
    "def BMI(w_k,h_m):\n",
    "    w_p=w_k*2.20462\n",
    "    h_i=h_m*39.3701\n",
    "    BMI=w_p*703/((h_i**2))\n",
    "    if BMI<18.5:\n",
    "        print('your BMI is: ',BMI, ' you are underweight')\n",
    "    elif BMI>=18.5 and BMI<=25:\n",
    "        print('your BMI is: ',BMI, ' you are in the optimal weight')\n",
    "    elif BMI>25:\n",
    "        print('your BMI is: ',BMI, ' you are in the overweight')\n",
    "        \n",
    "main()"
   ]
  },
  {
   "cell_type": "code",
   "execution_count": 10,
   "metadata": {},
   "outputs": [
    {
     "name": "stdout",
     "output_type": "stream",
     "text": [
      "Enter the number of seconds: 4573\n",
      "your time is hours:  1.0 minutes:  16.0 seconds:  13.0\n"
     ]
    }
   ],
   "source": [
    "time=float(input('Enter the number of seconds: '))\n",
    "def main():\n",
    "    if time<60:\n",
    "        print(time)\n",
    "    elif time>=60 and time<3600:\n",
    "        minutes=time//60\n",
    "        seconds=time%60\n",
    "        print ('your time is minutes: ',minutes, 'seconds: ',seconds)\n",
    "    elif time>=3600 and time<86400:\n",
    "        hours=time//3600\n",
    "        minutes=(time%3600)//60\n",
    "        seconds=(time%3600)%60\n",
    "        print('your time is hours: ',hours,'minutes: ',minutes,'seconds: ',seconds)\n",
    "    elif time>86400:\n",
    "        days=time//86400\n",
    "        hours=time//3600\n",
    "        minutes=(time%3600)//60\n",
    "        seconds=minutes%60\n",
    "        \n",
    "main()"
   ]
  },
  {
   "cell_type": "code",
   "execution_count": null,
   "metadata": {},
   "outputs": [],
   "source": []
  }
 ],
 "metadata": {
  "kernelspec": {
   "display_name": "Python 3",
   "language": "python",
   "name": "python3"
  },
  "language_info": {
   "codemirror_mode": {
    "name": "ipython",
    "version": 3
   },
   "file_extension": ".py",
   "mimetype": "text/x-python",
   "name": "python",
   "nbconvert_exporter": "python",
   "pygments_lexer": "ipython3",
   "version": "3.7.6"
  }
 },
 "nbformat": 4,
 "nbformat_minor": 4
}
