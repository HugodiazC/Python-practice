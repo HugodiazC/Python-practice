{
 "cells": [
  {
   "cell_type": "markdown",
   "metadata": {},
   "source": [
    "# Open and closing programs"
   ]
  },
  {
   "cell_type": "code",
   "execution_count": 1,
   "metadata": {},
   "outputs": [],
   "source": [
    "#modos para abrir archivo: 'r' es solo lectura, 'w' es para crear nuevo archivo escritura(borra el antiguo con el mismo nombre)\n",
    "# 'a' para escribir en un archivo que ya estaba escrito. \n",
    "def main():\n",
    "    #Open file name of the program= open function (name of file, mode) \n",
    "    outfile=open('philosophers.txt','w')\n",
    "    #write in the program 3 names\n",
    "    outfile.write('John Locke\\n')\n",
    "    outfile.write('David Hume\\n')\n",
    "    outfile.write('Edmund Burke\\n')\n",
    "    \n",
    "    outfile.close()\n",
    "main()"
   ]
  },
  {
   "cell_type": "code",
   "execution_count": 2,
   "metadata": {},
   "outputs": [
    {
     "name": "stdout",
     "output_type": "stream",
     "text": [
      "John Locke\n",
      "David Hume\n",
      "Edmund Burke\n",
      "\n"
     ]
    }
   ],
   "source": [
    "#Este programa abre el contenido del archivo\n",
    "def main():\n",
    "    #Abrir el archivo en modo 'reading'\n",
    "    infile=open('philosophers.txt','r')\n",
    "    #leer el archivo\n",
    "    file_contents=infile.read()\n",
    "    #cerrar el archivo\n",
    "    infile.close()\n",
    "    print(file_contents)\n",
    "main()\n",
    "    "
   ]
  },
  {
   "cell_type": "code",
   "execution_count": 3,
   "metadata": {},
   "outputs": [
    {
     "name": "stdout",
     "output_type": "stream",
     "text": [
      "John Locke\n",
      "\n",
      "David Hume\n",
      "\n",
      "Edmund Burke\n",
      "\n"
     ]
    }
   ],
   "source": [
    "#Leer la información del archivo linea por línea\n",
    "def main():\n",
    "    #Abrir el archivo en modo 'reading'\n",
    "    infile=open('philosophers.txt','r')\n",
    "    #read 3 lines from the file\n",
    "    line1=infile.readline()\n",
    "    line2=infile.readline()\n",
    "    line3=infile.readline()\n",
    "    #cerrar el archivo\n",
    "    infile.close()\n",
    "    #mostrar líneas\n",
    "    print(line1)\n",
    "    print(line2)\n",
    "    print(line3)\n",
    "main()\n",
    "    "
   ]
  },
  {
   "cell_type": "code",
   "execution_count": 6,
   "metadata": {},
   "outputs": [
    {
     "name": "stdout",
     "output_type": "stream",
     "text": [
      "Enter the name of 3 friends: \n",
      "Friend #1: Fer\n",
      "Friend #2: Estef\n",
      "Friend #3: Miriam\n",
      "The name are written to friend.txt\n"
     ]
    }
   ],
   "source": [
    "#Este programa ingresa nombres en un archivo\n",
    "def main():\n",
    "    #get the names\n",
    "    print('Enter the name of 3 friends: ')\n",
    "    name1=input('Friend #1: ')\n",
    "    name2=input('Friend #2: ')\n",
    "    name3=input('Friend #3: ')\n",
    "    \n",
    "    #Open File (create file call name)\n",
    "    myfile=open('friends.txt','w')\n",
    "    \n",
    "    #write names in the file\n",
    "    myfile.write(name1 + '\\n')\n",
    "    myfile.write(name2 + '\\n')\n",
    "    myfile.write(name3 + '\\n')\n",
    "    #close file\n",
    "    myfile.close()\n",
    "    print('The name are written to friend.txt')\n",
    "main()\n",
    "    "
   ]
  }
 ],
 "metadata": {
  "kernelspec": {
   "display_name": "Python 3",
   "language": "python",
   "name": "python3"
  },
  "language_info": {
   "codemirror_mode": {
    "name": "ipython",
    "version": 3
   },
   "file_extension": ".py",
   "mimetype": "text/x-python",
   "name": "python",
   "nbconvert_exporter": "python",
   "pygments_lexer": "ipython3",
   "version": "3.7.6"
  }
 },
 "nbformat": 4,
 "nbformat_minor": 4
}
