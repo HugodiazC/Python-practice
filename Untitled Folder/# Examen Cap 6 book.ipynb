{
 "cells": [
  {
   "cell_type": "markdown",
   "metadata": {},
   "source": [
    "# Algorithm Workbench"
   ]
  },
  {
   "cell_type": "code",
   "execution_count": 1,
   "metadata": {},
   "outputs": [
    {
     "name": "stdout",
     "output_type": "stream",
     "text": [
      "29\n"
     ]
    }
   ],
   "source": [
    "#random number 1-100\n",
    "import random\n",
    "rand=random.randint(1,100)\n",
    "print(rand)"
   ]
  },
  {
   "cell_type": "code",
   "execution_count": 2,
   "metadata": {},
   "outputs": [
    {
     "name": "stdout",
     "output_type": "stream",
     "text": [
      "Enter a number: 4\n",
      "2.0\n"
     ]
    }
   ],
   "source": [
    "number=float(input('Enter a number: '))\n",
    "def half(number):\n",
    "    return number/2\n",
    "result=half(number)\n",
    "print(result)"
   ]
  },
  {
   "cell_type": "code",
   "execution_count": 5,
   "metadata": {},
   "outputs": [
    {
     "name": "stdout",
     "output_type": "stream",
     "text": [
      "64\n"
     ]
    }
   ],
   "source": [
    "def main():\n",
    "    num=4\n",
    "    result=cube(num)\n",
    "    print(result)\n",
    "def cube(num):\n",
    "    return num*num*num\n",
    "main()"
   ]
  },
  {
   "cell_type": "code",
   "execution_count": 8,
   "metadata": {},
   "outputs": [
    {
     "name": "stdout",
     "output_type": "stream",
     "text": [
      "Enter a number: 4\n",
      "40.0\n"
     ]
    }
   ],
   "source": [
    "#multiplied by ten\n",
    "def main():\n",
    "    number=float(input('Enter a number: '))\n",
    "    result=times_10(number)\n",
    "    print(result)\n",
    "def times_10(number):\n",
    "    return number*10\n",
    "main()\n"
   ]
  },
  {
   "cell_type": "code",
   "execution_count": 9,
   "metadata": {},
   "outputs": [
    {
     "name": "stdout",
     "output_type": "stream",
     "text": [
      "Enter your first name: Díaz\n",
      "Díaz\n"
     ]
    }
   ],
   "source": [
    "def first_name():\n",
    "    F_N_get=input('Enter your first name: ')\n",
    "    return F_N_get\n",
    "print(first_name())"
   ]
  },
  {
   "cell_type": "markdown",
   "metadata": {},
   "source": [
    "# Programing Excercises"
   ]
  },
  {
   "cell_type": "code",
   "execution_count": 13,
   "metadata": {},
   "outputs": [
    {
     "name": "stdout",
     "output_type": "stream",
     "text": [
      "Enter the number of feets: 4\n",
      "the number of inches are:  48.0\n"
     ]
    }
   ],
   "source": [
    "def main():\n",
    "    feet=float(input('Enter the number of feets: '))\n",
    "    print('the number of inches are: ',feet_to_inches(feet))\n",
    "def feet_to_inches(feet):\n",
    "    return feet*12\n",
    "main()\n",
    "    "
   ]
  },
  {
   "cell_type": "code",
   "execution_count": null,
   "metadata": {},
   "outputs": [],
   "source": [
    "import random\n",
    "def main():\n",
    "    a=random.randint(1,1000)\n",
    "    b=random.randint(1,1000)\n",
    "    c=a+b\n",
    "    while a+b==c:\n",
    "        print('Make this sum')\n",
    "        print(' ',a)\n",
    "        print('+',b)\n",
    "        c=float(input('Enter the result: '))\n",
    "        a=random.randint(1,1000)\n",
    "        b=random.randint(1,1000)\n",
    "        c=a+b\n",
    "main()\n",
    "        \n"
   ]
  },
  {
   "cell_type": "code",
   "execution_count": null,
   "metadata": {},
   "outputs": [],
   "source": [
    "import random\n",
    "def main():\n",
    "    a=random.randint(1,1000)\n",
    "    b=random.randint(1,1000)\n",
    "    c=a+b\n",
    "    keep_going='y'\n",
    "    while keep_going=='y':\n",
    "        print('Make this sum')\n",
    "        print(' ',a)\n",
    "        print('+',b)\n",
    "        c=float(input('Enter the result: '))\n",
    "        a=random.randint(1,1000)\n",
    "        b=random.randint(1,1000)\n",
    "        if a+b==c:\n",
    "            print('Correct')\n",
    "            keep_going=input('Do you want to enter another one?, Enter y')\n",
    "        else:\n",
    "            keep_going=input('Wrong answers. Wanna try again?, Enter y')\n",
    "main()\n",
    "        "
   ]
  },
  {
   "cell_type": "code",
   "execution_count": 4,
   "metadata": {},
   "outputs": [
    {
     "name": "stdout",
     "output_type": "stream",
     "text": [
      "The maximum value will be return\n",
      "Enter the first value: 23\n",
      "Enter the second value: 35\n",
      "the maximum value is 35\n"
     ]
    }
   ],
   "source": [
    "def main():\n",
    "    print('The maximum value will be return')\n",
    "    print('the maximum value is', maximum())\n",
    "def maximum():\n",
    "    a=int(input('Enter the first value: '))\n",
    "    b=int(input('Enter the second value: '))\n",
    "    if a>b:\n",
    "        return a\n",
    "    else:\n",
    "        return b\n",
    "main()\n",
    "            "
   ]
  },
  {
   "cell_type": "code",
   "execution_count": 6,
   "metadata": {},
   "outputs": [
    {
     "name": "stdout",
     "output_type": "stream",
     "text": [
      "Enter the object´s falling time in seconds: 4\n",
      "The distance of the object´s fall was:  78.4  meters\n"
     ]
    }
   ],
   "source": [
    "g=9.8\n",
    "def main():\n",
    "    time=float(input('Enter the object´s falling time in seconds: '))\n",
    "    print('The distance of the object´s fall was: ',falling_distance(time), ' meters')\n",
    "def falling_distance(time):\n",
    "    distance=(1/2)*g*time**2\n",
    "    return distance\n",
    "main()"
   ]
  },
  {
   "cell_type": "code",
   "execution_count": 11,
   "metadata": {},
   "outputs": [
    {
     "name": "stdout",
     "output_type": "stream",
     "text": [
      "4.9\n",
      "19.6\n",
      "44.1\n",
      "78.4\n",
      "122.50000000000001\n",
      "176.4\n",
      "240.10000000000002\n",
      "313.6\n",
      "396.90000000000003\n",
      "490.00000000000006\n"
     ]
    }
   ],
   "source": [
    "g=9.8\n",
    "def main():\n",
    "    for time in range(1,11):\n",
    "        print(falling_distance(time))\n",
    "def falling_distance(time):\n",
    "    distance=(1/2)*g*time**2\n",
    "    return distance\n",
    "main()"
   ]
  },
  {
   "cell_type": "code",
   "execution_count": 12,
   "metadata": {},
   "outputs": [
    {
     "name": "stdout",
     "output_type": "stream",
     "text": [
      "Enter the mass in kilograms of the object: 50\n",
      "Enter the velocity en meter per second of the object: 5\n",
      "the kinetic energy of the object is:  625.0\n"
     ]
    }
   ],
   "source": [
    "def main():\n",
    "    m=float(input('Enter the mass in kilograms of the object: '))\n",
    "    v=float(input('Enter the velocity en meter per second of the object: '))\n",
    "    print('the kinetic energy of the object is: ',kinetic_energy(m,v))\n",
    "def kinetic_energy(m,v):\n",
    "    KE=(1/2)*m*v**2\n",
    "    return KE\n",
    "main()\n",
    "    "
   ]
  },
  {
   "cell_type": "code",
   "execution_count": 34,
   "metadata": {},
   "outputs": [
    {
     "name": "stdout",
     "output_type": "stream",
     "text": [
      "Enter the test score of the student: 98\n",
      "Score\tLeter Grade\n",
      "--------------------\n",
      "90-100 \t A\n",
      "Enter the test score of the student: 99\n",
      "Score\tLeter Grade\n",
      "--------------------\n",
      "90-100 \t A\n",
      "Enter the test score of the student: 78\n",
      "Score\tLeter Grade\n",
      "--------------------\n",
      "70-79 \t C\n",
      "Enter the test score of the student: 90\n",
      "Score\tLeter Grade\n",
      "--------------------\n",
      "90-100 \t A\n",
      "Enter the test score of the student: 97\n",
      "Score\tLeter Grade\n",
      "--------------------\n",
      "90-100 \t A\n"
     ]
    }
   ],
   "source": [
    "\n",
    "def main():\n",
    "    for score in range (5):\n",
    "        score=float(input('Enter the test score of the student: '))\n",
    "        print('Score\\tLeter Grade')\n",
    "        print('--------------------')\n",
    "        print(calc_average(score),'\\t',determine_grade(score))    \n",
    "def calc_average(score):\n",
    "    if score >=90 and score<=100:\n",
    "        average='90-100'\n",
    "    elif score >=80 and score<=89:\n",
    "        average='80-89'\n",
    "    elif score >=70 and score<=79:\n",
    "        average='70-79'\n",
    "    elif score >=60 and score<=69:\n",
    "        average='60-69'\n",
    "    elif score <60:\n",
    "        average='Below 60'\n",
    "    return average\n",
    "def determine_grade(score):\n",
    "    if score >=90 and score<=100:\n",
    "        letter_score='A'\n",
    "    elif score >=80 and score<=89:\n",
    "        letter_score='B'\n",
    "    elif score >=70 and score<=79:\n",
    "        letter_score='C'\n",
    "    elif score >=60 and score<=69:\n",
    "        letter_score='D'\n",
    "    elif score <60:\n",
    "        letter_score='F'\n",
    "    return letter_score\n",
    "main()"
   ]
  },
  {
   "cell_type": "code",
   "execution_count": null,
   "metadata": {},
   "outputs": [],
   "source": [
    "import random\n",
    "even=0\n",
    "odd=0\n",
    "for count in range (1,101):\n",
    "    result=random.randint(1,1000)\n",
    "    if result%2 ==0:\n",
    "        even+=1\n",
    "    else:\n",
    "        odd+=1\n",
    "print(even,odd)"
   ]
  },
  {
   "cell_type": "code",
   "execution_count": 58,
   "metadata": {},
   "outputs": [
    {
     "name": "stdout",
     "output_type": "stream",
     "text": [
      "The total of even number are:  40 The total of odd number are:  60\n"
     ]
    }
   ],
   "source": [
    "import random\n",
    "even=0\n",
    "odd=0\n",
    "for count in range (1,101):\n",
    "    result=random.randint(1,1000)\n",
    "    if result%2 ==0:\n",
    "        even=even+1\n",
    "    else:\n",
    "        odd=odd+1\n",
    "print('The total of even number are: ', even, 'The total of odd number are: ', odd)\n",
    "    "
   ]
  },
  {
   "cell_type": "code",
   "execution_count": null,
   "metadata": {},
   "outputs": [],
   "source": [
    "e='eve'+'eve'\n",
    "print(e)"
   ]
  },
  {
   "cell_type": "code",
   "execution_count": 1,
   "metadata": {},
   "outputs": [
    {
     "name": "stdout",
     "output_type": "stream",
     "text": [
      "Enter a number: 7\n",
      "The number is prime\n",
      "Would you like to enter another number?, Press \"y\" for continuey\n",
      "Enter a number: 4\n",
      "this is not a prime number\n",
      "Would you like to enter another number?, Press \"y\" for continuen\n"
     ]
    }
   ],
   "source": [
    "def is_prime (number):\n",
    "    if number%2==0 or number%3==0 or number%5==0 or number%7==0:\n",
    "        status=False \n",
    "    else:\n",
    "        status=True\n",
    "    return status\n",
    "def main():\n",
    "    continuar='y'\n",
    "    while continuar=='y':\n",
    "        number=int(input('Enter a number: '))\n",
    "        test_prime_number=is_prime(number)\n",
    "        if test_prime_number==True:\n",
    "            print('The number is prime')\n",
    "        else:\n",
    "            print('this is not a prime number')\n",
    "        continuar=input('Would you like to enter another number?, Press \"y\" for continue')\n",
    "        \n",
    "main()"
   ]
  },
  {
   "cell_type": "code",
   "execution_count": 4,
   "metadata": {},
   "outputs": [
    {
     "name": "stdout",
     "output_type": "stream",
     "text": [
      "This is a program that print prime numbers in range 1-100\n",
      "1\n",
      "11\n",
      "13\n",
      "17\n",
      "19\n",
      "23\n",
      "29\n",
      "31\n",
      "37\n",
      "41\n",
      "43\n",
      "47\n",
      "53\n",
      "59\n",
      "61\n",
      "67\n",
      "71\n",
      "73\n",
      "79\n",
      "83\n",
      "89\n",
      "97\n"
     ]
    }
   ],
   "source": [
    "def is_prime (number):\n",
    "    if number%2==0 or number%3==0 or number%5==0 or number%7==0:\n",
    "        status=False \n",
    "    else:\n",
    "        status=True\n",
    "    return status\n",
    "def main():\n",
    "    print('This is a program that print prime numbers in range 1-100')\n",
    "    for number in range (1,101):\n",
    "        if is_prime(number):\n",
    "            print (number)\n",
    "main()"
   ]
  },
  {
   "cell_type": "code",
   "execution_count": 12,
   "metadata": {},
   "outputs": [
    {
     "name": "stdout",
     "output_type": "stream",
     "text": [
      "Enter the present value of the account: 100000\n",
      "Enter the monthly interest rate: .06\n",
      "Enter the number of months that the money will be left in the account: 12\n",
      "the account future value is:  201219.64718355515\n"
     ]
    }
   ],
   "source": [
    "# F=Px(1+i)^t\n",
    "# F=future valuea\n",
    "# P=present value of the account\n",
    "# i=monthly interest\n",
    "# t=is the number of months\n",
    "\n",
    "def future_value (P,i,t):\n",
    "    return P*((1+i)**t)\n",
    "def main():\n",
    "    P=float(input('Enter the present value of the account: '))\n",
    "    i=float(input('Enter the monthly interest rate: '))\n",
    "    t=float(input('Enter the number of months that the money will be left in the account: '))\n",
    "    F=future_value(P,i,t)\n",
    "    print('the account future value is: ',F)\n",
    "main()\n",
    "    "
   ]
  },
  {
   "cell_type": "code",
   "execution_count": null,
   "metadata": {},
   "outputs": [
    {
     "name": "stdout",
     "output_type": "stream",
     "text": [
      "Guess a number in range 1 - 100: 50\n",
      "Too high, try again.\n",
      "None\n",
      "Try again. Guess a number in range 1 - 100: 40\n",
      "Too high, try again.\n",
      "None\n",
      "Try again. Guess a number in range 1 - 100: 30\n",
      "Too low, try again.\n",
      "None\n",
      "Try again. Guess a number in range 1 - 100: 35\n",
      "Too low, try again.\n",
      "None\n",
      "Try again. Guess a number in range 1 - 100: 37\n",
      "Too low, try again.\n",
      "None\n",
      "Try again. Guess a number in range 1 - 100: 38\n",
      "Too low, try again.\n",
      "None\n",
      "Try again. Guess a number in range 1 - 100: 39\n",
      "Congratulation! it took you 1\n"
     ]
    }
   ],
   "source": [
    "import random\n",
    "def random_number():\n",
    "    N=random.randint(1,101)\n",
    "    return N\n",
    "\n",
    "def verificator(guess,N):\n",
    "    number_guess=0\n",
    "    number_guess +=1 #todaví no resuelvo la posición del contador \n",
    "    if guess>N:\n",
    "        return print('Too high, try again.')\n",
    "    elif guess<N:\n",
    "        return print('Too low, try again.')\n",
    "    elif guess==N:\n",
    "        print('Congratulation! it took you', number_guess)\n",
    "        G=int(input('Star Over. Guess a number in range 1 - 100: '))\n",
    "        R_N= random_number()\n",
    "        verification=verificator(G,R_N)\n",
    "        while G != R_N:\n",
    "            print(verification)\n",
    "            G=int(input('Try again. Guess a number in range 1 - 100: '))\n",
    "            verification=verificator(G,R_N)          \n",
    "\n",
    "def main():\n",
    "    G=int(input('Guess a number in range 1 - 100: '))\n",
    "    R_N= random_number()\n",
    "    verification=verificator(G,R_N)\n",
    "\n",
    "    while G != R_N: \n",
    "        print(verification)\n",
    "        G=int(input('Try again. Guess a number in range 1 - 100: '))\n",
    "        verification=verificator(G,R_N)\n",
    "        \n",
    "    print(verification)\n",
    "main()\n",
    "        \n",
    "            "
   ]
  },
  {
   "cell_type": "code",
   "execution_count": null,
   "metadata": {},
   "outputs": [],
   "source": [
    "import random\n",
    "def radom_number():\n",
    "    N=random.randint(1,100)\n",
    "    return N\n",
    "def main():\n",
    "    R_N= radom_number()\n",
    "    print (R_N)\n",
    "main()"
   ]
  },
  {
   "cell_type": "code",
   "execution_count": null,
   "metadata": {},
   "outputs": [],
   "source": [
    "#piedra=1 papel=2 tijera=3\n",
    "import random\n",
    "def verificador(person_choice,computer_choice):\n",
    "    if computer_choice ==1 and person_choice==2:\n",
    "        return'You win.'\n",
    "    elif computer_choice ==1 and person_choice==3:\n",
    "        return'Computer wins.'\n",
    "    elif computer_choice ==2 and person_choice==3:\n",
    "        return'You win.'\n",
    "    elif computer_choice ==2 and person_choice==1:\n",
    "        return'Computer wins.'\n",
    "    elif computer_choice ==3 and person_choice==2:\n",
    "        return'Computer wins.' \n",
    "    elif computer_choice ==3 and person_choice==1:\n",
    "        return'You win.'\n",
    "    elif computer_choice == person_choice:\n",
    "        return'Tie!, try again.'\n",
    "\n",
    "def number_translate(computer_choice):\n",
    "    if computer_choice=='ROCK':\n",
    "        return 1\n",
    "    elif computer_choice=='PAPER':\n",
    "        return 2\n",
    "    elif computer_choice=='SCISSORS':\n",
    "        return 3\n",
    "def computer_print_choice(computer_c):\n",
    "    if computer_c==1:\n",
    "        return 'ROCK'\n",
    "    elif computer_c==2:\n",
    "        return 'PAPER'\n",
    "    elif computer_c==3:\n",
    "        return 'SCISSORS'   \n",
    "def main():\n",
    "    P_C=(input('enter you option ROCK, PAPER or SCISSORS: '))\n",
    "    computer_choice=random.randint(1,3)\n",
    "    person_choic=number_translate(P_C)\n",
    "    print('Computer choice is: ',computer_print_choice(computer_choice))\n",
    "    print(verificador(person_choic,computer_choice))\n",
    "main()\n",
    "    "
   ]
  },
  {
   "cell_type": "code",
   "execution_count": 4,
   "metadata": {},
   "outputs": [
    {
     "name": "stdout",
     "output_type": "stream",
     "text": [
      "enter you option ROCK, PAPER or SCISSORS: ROCK\n",
      "Computer choice is:  ROCK\n",
      "Tie!, try again.\n",
      "enter you option ROCK, PAPER or SCISSORS: ROCK\n",
      "Computer choice is:  SCISSORS\n",
      "You win.\n",
      "None\n"
     ]
    }
   ],
   "source": [
    "#piedra=1 papel=2 tijera=3\n",
    "import random\n",
    "def verificador(person_choice,computer_choice):\n",
    "    if computer_choice ==1 and person_choice==2:\n",
    "        return'You win.'\n",
    "    elif computer_choice ==1 and person_choice==3:\n",
    "        return'Computer wins.'\n",
    "    elif computer_choice ==2 and person_choice==3:\n",
    "        return'You win.'\n",
    "    elif computer_choice ==2 and person_choice==1:\n",
    "        return'Computer wins.'\n",
    "    elif computer_choice ==3 and person_choice==2:\n",
    "        return'Computer wins.' \n",
    "    elif computer_choice ==3 and person_choice==1:\n",
    "        return'You win.'\n",
    "    elif computer_choice == person_choice:\n",
    "        print('Tie!, try again.')\n",
    "        P_C=(input('enter you option ROCK, PAPER or SCISSORS: '))\n",
    "        computer_choice=random.randint(1,3)\n",
    "        person_choic=number_translate(P_C)\n",
    "        print('Computer choice is: ',computer_print_choice(computer_choice))\n",
    "        print(verificador(person_choic,computer_choice))\n",
    "\n",
    "def number_translate(computer_choice):\n",
    "    if computer_choice=='ROCK':\n",
    "        return 1\n",
    "    elif computer_choice=='PAPER':\n",
    "        return 2\n",
    "    elif computer_choice=='SCISSORS':\n",
    "        return 3\n",
    "def computer_print_choice(computer_c):\n",
    "    if computer_c==1:\n",
    "        return 'ROCK'\n",
    "    elif computer_c==2:\n",
    "        return 'PAPER'\n",
    "    elif computer_c==3:\n",
    "        return 'SCISSORS'   \n",
    "def main():\n",
    "    P_C=(input('enter you option ROCK, PAPER or SCISSORS: '))\n",
    "    computer_choice=random.randint(1,3)\n",
    "    person_choic=number_translate(P_C)\n",
    "    print('Computer choice is: ',computer_print_choice(computer_choice))\n",
    "    print(verificador(person_choic,computer_choice))\n",
    "main()\n",
    "    "
   ]
  }
 ],
 "metadata": {
  "kernelspec": {
   "display_name": "Python 3",
   "language": "python",
   "name": "python3"
  },
  "language_info": {
   "codemirror_mode": {
    "name": "ipython",
    "version": 3
   },
   "file_extension": ".py",
   "mimetype": "text/x-python",
   "name": "python",
   "nbconvert_exporter": "python",
   "pygments_lexer": "ipython3",
   "version": "3.7.6"
  }
 },
 "nbformat": 4,
 "nbformat_minor": 4
}
