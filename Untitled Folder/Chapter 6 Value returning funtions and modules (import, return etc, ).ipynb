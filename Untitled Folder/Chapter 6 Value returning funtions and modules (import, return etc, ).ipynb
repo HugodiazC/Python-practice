{
 "cells": [
  {
   "cell_type": "code",
   "execution_count": 1,
   "metadata": {},
   "outputs": [],
   "source": [
    "import random "
   ]
  },
  {
   "cell_type": "code",
   "execution_count": 2,
   "metadata": {},
   "outputs": [
    {
     "name": "stdout",
     "output_type": "stream",
     "text": [
      "8\n"
     ]
    }
   ],
   "source": [
    "number= random.randint(1,10)\n",
    "print(number)"
   ]
  },
  {
   "cell_type": "code",
   "execution_count": 3,
   "metadata": {},
   "outputs": [
    {
     "name": "stdout",
     "output_type": "stream",
     "text": [
      "2\n",
      "2\n",
      "4\n",
      "3\n",
      "10\n"
     ]
    }
   ],
   "source": [
    "def main():\n",
    "    for count in range (5):\n",
    "        number= random.randint(1,10)\n",
    "        print(number)\n",
    "main()"
   ]
  },
  {
   "cell_type": "code",
   "execution_count": 4,
   "metadata": {},
   "outputs": [
    {
     "name": "stdout",
     "output_type": "stream",
     "text": [
      "28\n",
      "19\n",
      "10\n",
      "36\n",
      "13\n"
     ]
    }
   ],
   "source": [
    "#Se puede intetizar el argumento de arriba de llamando a la función directo a print\n",
    "def main():\n",
    "    for count in range (5):\n",
    "        print(random.randint(1,50))\n",
    "main()"
   ]
  },
  {
   "cell_type": "code",
   "execution_count": 2,
   "metadata": {},
   "outputs": [
    {
     "name": "stdout",
     "output_type": "stream",
     "text": [
      "Rolling the dice...\n",
      "Their values are: \n",
      "2\n",
      "5\n",
      "Roll them again? (y=yes):n\n"
     ]
    }
   ],
   "source": [
    "MIN=1\n",
    "MAX=6\n",
    "def main():\n",
    "    again='y'\n",
    "    while again=='y' or again=='Y':\n",
    "        print('Rolling the dice...')\n",
    "        print('Their values are: ')\n",
    "        print(random.randint(MIN,MAX))\n",
    "        print(random.randint(MIN,MAX))\n",
    "        again=input('Roll them again? (y=yes):')\n",
    "main()"
   ]
  },
  {
   "cell_type": "code",
   "execution_count": 5,
   "metadata": {},
   "outputs": [
    {
     "name": "stdout",
     "output_type": "stream",
     "text": [
      "Enter the number of tosses you want: 4\n",
      "TAILS\n",
      "HEADS\n",
      "HEADS\n",
      "TAILS\n"
     ]
    }
   ],
   "source": [
    "heads=1\n",
    "tails=2\n",
    "tosses=int(input('Enter the number of tosses you want: '))\n",
    "def main():\n",
    "    for toss in range (tosses):\n",
    "        if random.randint(heads,tails)==heads:\n",
    "            print('HEADS')\n",
    "        else:\n",
    "            print('TAILS')\n",
    "main()\n",
    "    "
   ]
  },
  {
   "cell_type": "markdown",
   "metadata": {},
   "source": [
    "## Randrange"
   ]
  },
  {
   "cell_type": "code",
   "execution_count": null,
   "metadata": {},
   "outputs": [],
   "source": [
    "# imprimirá un número random del 0 al 9\n",
    "number=random.randrange(10)\n",
    "# imprimirá un número random del 20 al 100 de 10 en 10\n",
    "number2=random.ranrango(20,101,10)\n",
    "# random floating point in range 00 up to 1.0\n",
    "number3=random.random()\n",
    "#random floating number pero te deja especificar el rango\n",
    "number4=random.uniform(1.0,10.0)\n"
   ]
  },
  {
   "cell_type": "markdown",
   "metadata": {},
   "source": [
    "## Random seed"
   ]
  },
  {
   "cell_type": "code",
   "execution_count": 5,
   "metadata": {},
   "outputs": [
    {
     "data": {
      "text/plain": [
       "55"
      ]
     },
     "execution_count": 5,
     "metadata": {},
     "output_type": "execute_result"
    }
   ],
   "source": [
    "#sirve para generar la misma serie número random\n",
    "random.seed(10)\n",
    "random.randint(1,100)\n",
    "random.randint(1,100)\n",
    "random.randint(1,100)"
   ]
  },
  {
   "cell_type": "code",
   "execution_count": 4,
   "metadata": {},
   "outputs": [
    {
     "data": {
      "text/plain": [
       "55"
      ]
     },
     "execution_count": 4,
     "metadata": {},
     "output_type": "execute_result"
    }
   ],
   "source": [
    "random.seed(10)\n",
    "random.randint(1,100)\n",
    "random.randint(1,100)\n",
    "random.randint(1,100)"
   ]
  },
  {
   "cell_type": "markdown",
   "metadata": {},
   "source": [
    "## Return \n",
    "### Value-Returning Functions"
   ]
  },
  {
   "cell_type": "code",
   "execution_count": 11,
   "metadata": {},
   "outputs": [
    {
     "name": "stdout",
     "output_type": "stream",
     "text": [
      "3\n"
     ]
    }
   ],
   "source": [
    "sample1=1\n",
    "sample2=2\n",
    "def main():\n",
    "    total=suma(sample1,sample2)\n",
    "    print(total)\n",
    "def suma(num1,num2):\n",
    "    result=num1+num2\n",
    "    return result\n",
    "main()    "
   ]
  },
  {
   "cell_type": "code",
   "execution_count": null,
   "metadata": {},
   "outputs": [],
   "source": [
    "sample1=1\n",
    "sample2=2\n",
    "def main():\n",
    "    total=suma(sample1,sample2)\n",
    "    print(total)\n",
    "def suma(num1,num2):\n",
    "    return num1+num2 #se puede simplificar de esta forma\n",
    "main()  "
   ]
  },
  {
   "cell_type": "code",
   "execution_count": 12,
   "metadata": {},
   "outputs": [
    {
     "name": "stdout",
     "output_type": "stream",
     "text": [
      "Enter your age: 29\n",
      "Enter your best friend age: 31\n",
      "Together you are 60 years old.\n"
     ]
    }
   ],
   "source": [
    "def main():\n",
    "    firts_age=int(input('Enter your age: '))\n",
    "    second_age=int(input('Enter your best friend age: '))\n",
    "    total=sum(firts_age,second_age)\n",
    "    print('Together you are', total, 'years old.')\n",
    "def sum(num1,num2):\n",
    "    result=num1+num2\n",
    "    return result\n",
    "main()"
   ]
  },
  {
   "cell_type": "markdown",
   "metadata": {},
   "source": [
    "## Value-Returning Functions"
   ]
  },
  {
   "cell_type": "code",
   "execution_count": 14,
   "metadata": {},
   "outputs": [
    {
     "name": "stdout",
     "output_type": "stream",
     "text": [
      "Enter the items regular priece: 100\n",
      "the sale price is $80.00\n"
     ]
    }
   ],
   "source": [
    "discount_percentage=0.20\n",
    "def main():\n",
    "    reg_price=get_regular_price()\n",
    "    sale_price=reg_price - discount(reg_price)\n",
    "    print('the sale price is $',format(sale_price,',.2f'),sep='')\n",
    "def get_regular_price():\n",
    "    price=float(input('Enter the items regular priece: '))\n",
    "    return price\n",
    "def discount(price):\n",
    "    return price*discount_percentage\n",
    "main()\n",
    "    "
   ]
  },
  {
   "cell_type": "code",
   "execution_count": 16,
   "metadata": {},
   "outputs": [
    {
     "name": "stdout",
     "output_type": "stream",
     "text": [
      "enter the monthly sales: 14500\n",
      "enter the amount of advance pay, or\n",
      "enter 0 if no advance pay was given\n",
      "advance pay: 1000\n",
      "the pay is $:  740.0\n"
     ]
    }
   ],
   "source": [
    "def main():\n",
    "    sales=get_sales()\n",
    "    advanced_pay=get_advance_pay()\n",
    "    comm_rate=determine_comm_rate(sales)\n",
    "    pay=sales*comm_rate-advanced_pay\n",
    "    print('the pay is $: ',pay)\n",
    "    if pay<0:\n",
    "        print('the salesperson must reinburse')\n",
    "        print('the company')\n",
    "def get_sales():\n",
    "    monthly_sales=float(input('enter the monthly sales: '))\n",
    "    return monthly_sales\n",
    "def get_advance_pay():\n",
    "    print('enter the amount of advance pay, or')\n",
    "    print('enter 0 if no advance pay was given')\n",
    "    advance=float(input('advance pay: '))\n",
    "    return advance\n",
    "def determine_comm_rate(sales):\n",
    "    if sales <10000:\n",
    "        rate=0.10\n",
    "    elif sales >=10000 and sales <=14999.99:\n",
    "        rate=0.12\n",
    "    elif sales>=15000 and sales <=17999.99:\n",
    "        rate=0.14\n",
    "    elif sales>=18000 and sales <=21999.99:\n",
    "        rate=0.16\n",
    "    else:\n",
    "        rate=0.18\n",
    "    return rate\n",
    "main()"
   ]
  },
  {
   "cell_type": "markdown",
   "metadata": {},
   "source": [
    "## Returnig strings"
   ]
  },
  {
   "cell_type": "code",
   "execution_count": null,
   "metadata": {},
   "outputs": [],
   "source": [
    "def get_name():\n",
    "    name=input('Enter your name: ')\n",
    "    return name"
   ]
  },
  {
   "cell_type": "markdown",
   "metadata": {},
   "source": [
    "## Returnig boolean Values"
   ]
  },
  {
   "cell_type": "code",
   "execution_count": 17,
   "metadata": {},
   "outputs": [
    {
     "name": "stdout",
     "output_type": "stream",
     "text": [
      "Enter a number: 3\n",
      "the number is odd\n"
     ]
    }
   ],
   "source": [
    "def is_even(number):\n",
    "    if(number%2)==0:\n",
    "        status=True\n",
    "    else:\n",
    "        status=False\n",
    "    return status\n",
    "number=int(input('Enter a number: '))\n",
    "if is_even(number):\n",
    "    print('the number is even')\n",
    "else:\n",
    "    print('the number is odd')\n",
    "    "
   ]
  },
  {
   "cell_type": "code",
   "execution_count": 2,
   "metadata": {},
   "outputs": [
    {
     "name": "stdout",
     "output_type": "stream",
     "text": [
      "Enter the model number: 120\n",
      "the valid model numbers are 100, 200, 300.\n",
      "Enter a valid model number: 100\n"
     ]
    }
   ],
   "source": [
    "model=int(input('Enter the model number: '))\n",
    "while model !=100 and model !=200 and model!=300:\n",
    "    print('the valid model numbers are 100, 200, 300.')\n",
    "    model=int(input('Enter a valid model number: '))"
   ]
  },
  {
   "cell_type": "code",
   "execution_count": 23,
   "metadata": {},
   "outputs": [],
   "source": [
    "\n",
    "while is_invalid(model):\n",
    "    print('the valid model numbers are 100, 200, 300.')\n",
    "    model=int(input('Enter a valid model number: '))\n",
    "def is_invalid(mod_num):\n",
    "    if mod_num!=100 and mod_num!=200 and mod_num!=300:\n",
    "        status=True\n",
    "    else:\n",
    "        status=False\n",
    "    return status"
   ]
  },
  {
   "cell_type": "markdown",
   "metadata": {},
   "source": [
    "## Returnig multiple Values"
   ]
  },
  {
   "cell_type": "code",
   "execution_count": 1,
   "metadata": {},
   "outputs": [
    {
     "name": "stdout",
     "output_type": "stream",
     "text": [
      "Enter your firts name: Hugo\n",
      "Enter your last name:Díaz\n",
      "('Hugo', 'Díaz')\n"
     ]
    }
   ],
   "source": [
    "def get_name():\n",
    "    firts=input('Enter your firts name: ')\n",
    "    last=input('Enter your last name:')\n",
    "    return firts,last\n",
    "print (get_name())\n"
   ]
  },
  {
   "cell_type": "markdown",
   "metadata": {},
   "source": [
    "# Math Module"
   ]
  },
  {
   "cell_type": "code",
   "execution_count": 3,
   "metadata": {},
   "outputs": [],
   "source": [
    "import math"
   ]
  },
  {
   "cell_type": "code",
   "execution_count": 6,
   "metadata": {},
   "outputs": [
    {
     "name": "stdout",
     "output_type": "stream",
     "text": [
      "4.0\n"
     ]
    }
   ],
   "source": [
    "result=math.sqrt(16) #raíz cuadrada\n",
    "print (result)"
   ]
  },
  {
   "cell_type": "code",
   "execution_count": 7,
   "metadata": {},
   "outputs": [
    {
     "name": "stdout",
     "output_type": "stream",
     "text": [
      "Enter the length of side A: 12\n",
      "Enter the length of side B: 14\n",
      "The length of the hyponenuse is 18.439088914585774\n"
     ]
    }
   ],
   "source": [
    "#hipotenusa\n",
    "def main():\n",
    "    a=float(input('Enter the length of side A: '))\n",
    "    b=float(input('Enter the length of side B: '))\n",
    "    c=math.hypot(a,b)\n",
    "    print('The length of the hyponenuse is', c)\n",
    "main()"
   ]
  },
  {
   "cell_type": "code",
   "execution_count": 11,
   "metadata": {},
   "outputs": [
    {
     "name": "stdout",
     "output_type": "stream",
     "text": [
      "5\n"
     ]
    }
   ],
   "source": [
    "x=math.ceil(4.3)\n",
    "print(x)"
   ]
  },
  {
   "cell_type": "code",
   "execution_count": 12,
   "metadata": {},
   "outputs": [
    {
     "name": "stdout",
     "output_type": "stream",
     "text": [
      "4\n"
     ]
    }
   ],
   "source": [
    "x=math.floor(4.7)\n",
    "print(x)"
   ]
  },
  {
   "cell_type": "code",
   "execution_count": 14,
   "metadata": {},
   "outputs": [
    {
     "name": "stdout",
     "output_type": "stream",
     "text": [
      "Enter the radio: 23\n",
      "the area is:  1661.9025137490005\n"
     ]
    }
   ],
   "source": [
    "#calcular área de un circulo usando math.pi\n",
    "radio=float(input('Enter the radio: '))\n",
    "area=math.pi*radio**2\n",
    "print('the area is: ', area)"
   ]
  },
  {
   "cell_type": "markdown",
   "metadata": {},
   "source": [
    "# Storing functions in modules"
   ]
  },
  {
   "cell_type": "code",
   "execution_count": 2,
   "metadata": {},
   "outputs": [],
   "source": [
    "#vamos a guardar funciones que calculen el área de un circulo y su perímetros\n",
    "#IMPORTANTE este programa se debe guardar en el ordenador con extensión .py\n",
    "import math  #si usa esta librería es importante indicarla al principio. \n",
    "def area(radius):\n",
    "    return math.pi*radius**2\n",
    "def circunference(radius):\n",
    "    return 2*math.pi*radius\n",
    "    "
   ]
  },
  {
   "cell_type": "code",
   "execution_count": 3,
   "metadata": {},
   "outputs": [],
   "source": [
    "#vamos a guardar funciones que calculen el área de un rectángulo y su perímetros\n",
    "#IMPORTANTE este programa se debe guardar en el ordenador con extensión .py\n",
    "def area(width, length):\n",
    "    return width *length\n",
    "def perimeter(width, length):\n",
    "    return 2*(width+length)"
   ]
  },
  {
   "cell_type": "code",
   "execution_count": 14,
   "metadata": {},
   "outputs": [],
   "source": [
    "import math"
   ]
  },
  {
   "cell_type": "code",
   "execution_count": 17,
   "metadata": {},
   "outputs": [
    {
     "data": {
      "text/plain": [
       "3.141592653589793"
      ]
     },
     "execution_count": 17,
     "metadata": {},
     "output_type": "execute_result"
    }
   ],
   "source": [
    "math.pi"
   ]
  },
  {
   "cell_type": "code",
   "execution_count": 1,
   "metadata": {},
   "outputs": [],
   "source": [
    "import circle"
   ]
  },
  {
   "cell_type": "code",
   "execution_count": 4,
   "metadata": {},
   "outputs": [
    {
     "name": "stdout",
     "output_type": "stream",
     "text": [
      "Enter the radius: 23\n",
      "area:  1661.9025137490005 circunferencia:  144.51326206513048\n"
     ]
    }
   ],
   "source": [
    "radius=float(input('Enter the radius: '))\n",
    "my_area=circle.area(radius)\n",
    "my_circum=circle.circumference(radius)\n",
    "print('area: ',my_area, 'circunferencia: ', my_circum)"
   ]
  },
  {
   "cell_type": "code",
   "execution_count": 6,
   "metadata": {},
   "outputs": [
    {
     "name": "stdout",
     "output_type": "stream",
     "text": [
      "          MENU\n",
      "1) Area of a circle\n",
      "2) Circunference of a rectangle\n",
      "4) Perimeter of a rectangle\n",
      "5) Quit\n",
      "Enter your number choice: 1\n",
      "Enter the radius of the circle: 3\n",
      "The area is  28.274333882308138\n",
      "          MENU\n",
      "1) Area of a circle\n",
      "2) Circunference of a rectangle\n",
      "4) Perimeter of a rectangle\n",
      "5) Quit\n",
      "Enter your number choice: 2\n",
      "Enter the radius of the circle: 3\n",
      "the circumference is  18.84955592153876\n",
      "          MENU\n",
      "1) Area of a circle\n",
      "2) Circunference of a rectangle\n",
      "4) Perimeter of a rectangle\n",
      "5) Quit\n",
      "Enter your number choice: 3\n",
      "Enter the rectangle´s width: 3\n",
      "Enter the rectangle´s length: 2\n",
      "The regtangle´s area is  6.0\n",
      "          MENU\n",
      "1) Area of a circle\n",
      "2) Circunference of a rectangle\n",
      "4) Perimeter of a rectangle\n",
      "5) Quit\n",
      "Enter your number choice: 4\n",
      "Enter the rectangle´s width: 3\n",
      "Enter the rectangle´s length: 2\n",
      "The regtangle´s area is  10.0\n",
      "          MENU\n",
      "1) Area of a circle\n",
      "2) Circunference of a rectangle\n",
      "4) Perimeter of a rectangle\n",
      "5) Quit\n",
      "Enter your number choice: 5\n",
      "Exiting the program...\n"
     ]
    }
   ],
   "source": [
    "import circle\n",
    "import rectangle\n",
    "\n",
    "area_circle_choice=1\n",
    "circumference_choice=2\n",
    "area_rentangle_choice=3\n",
    "perimeter_rectangle_choice=4\n",
    "QUIT_choice=5\n",
    "\n",
    "def main():\n",
    "    choice=0\n",
    "    while choice != QUIT_choice:\n",
    "        display_menu()\n",
    "        choice=int(input('Enter your number choice: '))\n",
    "        if choice==area_circle_choice:\n",
    "            radius=float(input('Enter the radius of the circle: '))\n",
    "            print('The area is ', circle.area(radius))\n",
    "        elif choice==circumference_choice:\n",
    "            radius=float(input('Enter the radius of the circle: '))\n",
    "            print('the circumference is ',circle.circumference(radius))\n",
    "        elif choice== area_rentangle_choice:\n",
    "            width=float(input('Enter the rectangle´s width: '))\n",
    "            length=float(input('Enter the rectangle´s length: '))\n",
    "            print('The regtangle´s area is ', rectangle.area(width, length))\n",
    "        elif choice== perimeter_rectangle_choice:\n",
    "            width=float(input('Enter the rectangle´s width: '))\n",
    "            length=float(input('Enter the rectangle´s length: '))\n",
    "            print('The regtangle´s area is ', rectangle.perimeter(width, length))\n",
    "        elif choice==QUIT_choice:\n",
    "            print('Exiting the program...')\n",
    "        else:\n",
    "            print('Error: invalid selection.')\n",
    "def display_menu():\n",
    "    print('          MENU')\n",
    "    print('1) Area of a circle')\n",
    "    print('2) Circunference of a rectangle')\n",
    "    print('3) Area of the rectangle')\n",
    "    print('4) Perimeter of a rectangle')\n",
    "    print('5) Quit')\n",
    "    \n",
    "main()\n",
    "            \n",
    "        "
   ]
  }
 ],
 "metadata": {
  "kernelspec": {
   "display_name": "Python 3",
   "language": "python",
   "name": "python3"
  },
  "language_info": {
   "codemirror_mode": {
    "name": "ipython",
    "version": 3
   },
   "file_extension": ".py",
   "mimetype": "text/x-python",
   "name": "python",
   "nbconvert_exporter": "python",
   "pygments_lexer": "ipython3",
   "version": "3.7.6"
  }
 },
 "nbformat": 4,
 "nbformat_minor": 4
}
