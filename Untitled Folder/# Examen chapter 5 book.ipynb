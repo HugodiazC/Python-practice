{
 "cells": [
  {
   "cell_type": "markdown",
   "metadata": {},
   "source": [
    "# Examen chapter 5_book"
   ]
  },
  {
   "cell_type": "code",
   "execution_count": 7,
   "metadata": {},
   "outputs": [
    {
     "name": "stdout",
     "output_type": "stream",
     "text": [
      "Enter a number: 4\n",
      "Enter a number: 5\n",
      "Enter a number: 10\n"
     ]
    }
   ],
   "source": [
    "def main():\n",
    "    total=0\n",
    "    while total<100:\n",
    "        number=float(input('Enter a number: '))\n",
    "        total=number*10\n",
    "    \n",
    "main()"
   ]
  },
  {
   "cell_type": "code",
   "execution_count": 8,
   "metadata": {},
   "outputs": [
    {
     "name": "stdout",
     "output_type": "stream",
     "text": [
      "Enter the firts number: 34\n",
      "Enter the second number: 34\n",
      "the sum is:  68.0\n",
      "Enter \"y\" for continue: y\n",
      "Enter the firts number: 34\n",
      "Enter the second number: 2\n",
      "the sum is:  36.0\n",
      "Enter \"y\" for continue: N\n"
     ]
    }
   ],
   "source": [
    "def main():\n",
    "    another='y'\n",
    "    while another=='y' or another=='Y':\n",
    "        num1=float(input('Enter the firts number: '))\n",
    "        num2=float(input('Enter the second number: '))\n",
    "        total=num1+num2\n",
    "        print('the sum is: ',total)\n",
    "        another=input('Enter yes with \"y\" for continue: ')\n",
    "main()"
   ]
  },
  {
   "cell_type": "code",
   "execution_count": 13,
   "metadata": {},
   "outputs": [
    {
     "name": "stdout",
     "output_type": "stream",
     "text": [
      "0\n",
      "10\n",
      "20\n",
      "30\n",
      "40\n",
      "50\n",
      "60\n",
      "70\n",
      "80\n",
      "90\n"
     ]
    }
   ],
   "source": [
    "def main():\n",
    "    for num in range(0,100,10):\n",
    "        print(num)\n",
    "    \n",
    "main()"
   ]
  },
  {
   "cell_type": "code",
   "execution_count": 15,
   "metadata": {},
   "outputs": [
    {
     "name": "stdout",
     "output_type": "stream",
     "text": [
      "Enter a number: 1\n",
      "1\n",
      "Enter a number: 2\n",
      "2\n",
      "Enter a number: 3\n",
      "3\n",
      "Enter a number: 4\n",
      "4\n",
      "Enter a number: 5\n",
      "5\n",
      "Enter a number: 6\n",
      "6\n",
      "Enter a number: 7\n",
      "7\n",
      "Enter a number: 8\n",
      "8\n",
      "Enter a number: 9\n",
      "9\n",
      "Enter a number: 10\n",
      "10\n"
     ]
    }
   ],
   "source": [
    "def main():\n",
    "    for num in range(10):\n",
    "        number=int(input('Enter a number: '))\n",
    "        print(number)\n",
    "main()"
   ]
  },
  {
   "cell_type": "code",
   "execution_count": 41,
   "metadata": {},
   "outputs": [
    {
     "name": "stdout",
     "output_type": "stream",
     "text": [
      "0.03333333333333333\n",
      "0.06896551724137931\n",
      "0.10714285714285714\n",
      "0.14814814814814814\n",
      "0.19230769230769232\n",
      "0.24\n",
      "0.2916666666666667\n",
      "0.34782608695652173\n",
      "0.4090909090909091\n",
      "0.47619047619047616\n",
      "0.55\n",
      "0.631578947368421\n",
      "0.7222222222222222\n",
      "0.8235294117647058\n",
      "0.9375\n",
      "1.0666666666666667\n",
      "1.2142857142857142\n",
      "1.3846153846153846\n",
      "1.5833333333333333\n",
      "1.8181818181818181\n",
      "2.1\n",
      "2.4444444444444446\n",
      "2.875\n",
      "3.4285714285714284\n",
      "4.166666666666667\n",
      "5.2\n",
      "6.75\n",
      "9.333333333333334\n",
      "14.5\n",
      "30.0\n"
     ]
    }
   ],
   "source": [
    "def main():\n",
    "    B=31\n",
    "    for num in range(1,31,1):\n",
    "        B-=1\n",
    "        total=num/B\n",
    "        print(total)\n",
    "    \n",
    "main()  "
   ]
  },
  {
   "cell_type": "code",
   "execution_count": 42,
   "metadata": {},
   "outputs": [],
   "source": [
    "x=10\n",
    "x+=1\n",
    "x*=2\n",
    "x/=10\n",
    "x-=100"
   ]
  },
  {
   "cell_type": "code",
   "execution_count": 43,
   "metadata": {},
   "outputs": [
    {
     "name": "stdout",
     "output_type": "stream",
     "text": [
      "###############\n",
      "###############\n",
      "###############\n",
      "###############\n",
      "###############\n",
      "###############\n",
      "###############\n",
      "###############\n",
      "###############\n",
      "###############\n"
     ]
    }
   ],
   "source": [
    "for R in range (10):\n",
    "    for col in range(15):\n",
    "        print('#',end='')\n",
    "    print()"
   ]
  },
  {
   "cell_type": "code",
   "execution_count": 2,
   "metadata": {},
   "outputs": [
    {
     "name": "stdout",
     "output_type": "stream",
     "text": [
      "Enter a number a nonzero positive numnber: -1\n",
      "ERROR: you should enter a nonzero positive numnber\n",
      "Enter a number a nonzero positive numnber: 3\n"
     ]
    }
   ],
   "source": [
    "def main():\n",
    "    valid()\n",
    "def valid():\n",
    "    val=float(input('Enter a number a nonzero positive numnber: '))\n",
    "    while val<=0:\n",
    "        print('ERROR: you should enter a nonzero positive numnber')\n",
    "        val=float(input('Enter a number a nonzero positive numnber: '))\n",
    "main()"
   ]
  },
  {
   "cell_type": "code",
   "execution_count": 1,
   "metadata": {},
   "outputs": [
    {
     "name": "stdout",
     "output_type": "stream",
     "text": [
      "Enter a number in range fo 1 to 100: 103\n",
      "ERROR: you should enter a number in range fo 1 to 100\n",
      "Enter a number in range fo 1 to 100: -2\n",
      "ERROR: you should enter a number in range fo 1 to 100\n",
      "Enter a number in range fo 1 to 100: 50\n"
     ]
    }
   ],
   "source": [
    "def main():\n",
    "    valid2()\n",
    "def valid2():\n",
    "    val1=float(input('Enter a number in range fo 1 to 100: '))\n",
    "    while val1<=1 or val1>=100:\n",
    "        print('ERROR: you should enter a number in range fo 1 to 100')\n",
    "        val1=float(input('Enter a number in range fo 1 to 100: '))\n",
    "main()\n",
    "        "
   ]
  },
  {
   "cell_type": "markdown",
   "metadata": {},
   "source": [
    "## Second part\n",
    "### Programming Exercises"
   ]
  },
  {
   "cell_type": "code",
   "execution_count": 5,
   "metadata": {},
   "outputs": [
    {
     "name": "stdout",
     "output_type": "stream",
     "text": [
      "How many days are you going to register: 7\n",
      "Enter the number of bugs collected today: 2\n",
      "Enter the number of bugs collected today: 2\n",
      "Enter the number of bugs collected today: 2\n",
      "Enter the number of bugs collected today: 2\n",
      "Enter the number of bugs collected today: 2\n",
      "Enter the number of bugs collected today: 2\n",
      "Enter the number of bugs collected today: 2\n",
      "The total bugs of the 7  days are:  14\n"
     ]
    }
   ],
   "source": [
    "#Bug collector\n",
    "def main():\n",
    "    total=0\n",
    "    days=int(input('How many days are you going to register: '))\n",
    "    for bugscount in range (days):\n",
    "        totalbugs=int(input('Enter the number of bugs collected today: '))\n",
    "        total+=totalbugs\n",
    "    print('The total bugs of the',days,' days are: ', total)\n",
    "main()"
   ]
  },
  {
   "cell_type": "code",
   "execution_count": 7,
   "metadata": {},
   "outputs": [
    {
     "name": "stdout",
     "output_type": "stream",
     "text": [
      "39.0\n",
      "58.5\n",
      "78.0\n",
      "97.5\n",
      "117.0\n"
     ]
    }
   ],
   "source": [
    "#Calories Burned \n",
    "#3.9 calories per minut, calories burned after 10, 15, 20, 25, 30.\n",
    "def main():\n",
    "    for time in range (10,31,5):\n",
    "        burned=time*3.9\n",
    "        print(burned)\n",
    "main()\n",
    "    "
   ]
  },
  {
   "cell_type": "code",
   "execution_count": 1,
   "metadata": {},
   "outputs": [
    {
     "name": "stdout",
     "output_type": "stream",
     "text": [
      "How many day are you going to register?: 4\n",
      "Enter the budget you did today: 23\n",
      "Enter the budget you did today: 50\n",
      "Enter the budget you did today: 34\n",
      "Enter the budget you did today: 46\n",
      "The total bubget for the month is: \n"
     ]
    }
   ],
   "source": [
    "#budget for a month\n",
    "def main():\n",
    "    total=0\n",
    "    days=int(input('How many day are you going to register?: '))\n",
    "    for amount in range (days):\n",
    "        budget=float(input('Enter the budget you did today: '))\n",
    "        total+=budget\n",
    "    print('The total bubget for the month is: ',total)\n",
    "main()"
   ]
  },
  {
   "cell_type": "code",
   "execution_count": 12,
   "metadata": {},
   "outputs": [
    {
     "name": "stdout",
     "output_type": "stream",
     "text": [
      "What is the speed of the vehicule in mph: 80\n",
      "How many hours has it traveled?: 5\n",
      "\n",
      "Time\tDistance\n",
      "-----------\n",
      "1 \t 80.0\n",
      "2 \t 160.0\n",
      "3 \t 240.0\n",
      "4 \t 320.0\n",
      "5 \t 400.0\n"
     ]
    }
   ],
   "source": [
    "def main():\n",
    "    speed=float(input('What is the speed of the vehicule in mph: '))\n",
    "    hours=int(input('How many hours has it traveled?: '))\n",
    "    print()\n",
    "    print('Time\\tDistance')\n",
    "    print('-----------')\n",
    "    for hours in range (1,hours+1):\n",
    "        dist=hours*speed\n",
    "        print(hours, '\\t' ,dist)\n",
    "main()"
   ]
  },
  {
   "cell_type": "code",
   "execution_count": null,
   "metadata": {},
   "outputs": [],
   "source": [
    "def main():\n",
    "    total=0\n",
    "    years=int(input('Enter the number of years: '))  \n",
    "    for rain in range (years): \n",
    "        for months in range (13):\n",
    "            raindrop=float(input('Enter the inches of rainfall this month: '))\n",
    "            total+=raindrop\n",
    "        average=total/12\n",
    "        print('The total inches raindrop in all is: ',total)\n",
    "        print('the total average of raindrop is: ', average)\n",
    "main()\n",
    "            "
   ]
  },
  {
   "cell_type": "code",
   "execution_count": 2,
   "metadata": {},
   "outputs": [
    {
     "name": "stdout",
     "output_type": "stream",
     "text": [
      "Celcius\tFarenheit\n",
      "------------------\n",
      "1 \t 33.8\n",
      "2 \t 35.6\n",
      "3 \t 37.4\n",
      "4 \t 39.2\n",
      "5 \t 41.0\n",
      "6 \t 42.8\n",
      "7 \t 44.6\n",
      "8 \t 46.4\n",
      "9 \t 48.2\n",
      "10 \t 50.0\n",
      "11 \t 51.8\n",
      "12 \t 53.6\n",
      "13 \t 55.400000000000006\n",
      "14 \t 57.2\n",
      "15 \t 59.0\n",
      "16 \t 60.8\n",
      "17 \t 62.6\n",
      "18 \t 64.4\n",
      "19 \t 66.2\n",
      "20 \t 68.0\n"
     ]
    }
   ],
   "source": [
    "def main():\n",
    "    print('Celcius\\tFarenheit')\n",
    "    print('------------------')\n",
    "    for C in range (1,21,1):\n",
    "        F=((9/5)*C)+32\n",
    "        print(C,'\\t',F)\n",
    "main()"
   ]
  },
  {
   "cell_type": "code",
   "execution_count": 7,
   "metadata": {},
   "outputs": [
    {
     "name": "stdout",
     "output_type": "stream",
     "text": [
      "Enter the number of days: 15\n",
      "Day\tSalary\n",
      "--------------\n",
      "1 \t 1\n",
      "2 \t 3\n",
      "3 \t 6\n",
      "4 \t 10\n",
      "5 \t 15\n",
      "6 \t 21\n",
      "7 \t 28\n",
      "8 \t 36\n",
      "9 \t 45\n",
      "10 \t 55\n",
      "11 \t 66\n",
      "12 \t 78\n",
      "13 \t 91\n",
      "14 \t 105\n",
      "15 \t 120\n",
      "The total money you will earn is:  1.2\n"
     ]
    }
   ],
   "source": [
    "def main():\n",
    "    salary=0\n",
    "    days=int(input('Enter the number of days: '))\n",
    "    print('Day\\tSalary')\n",
    "    print('--------------')\n",
    "    for t in range (1,days+1,1):\n",
    "        salary+=t\n",
    "        print(t,'\\t',salary)\n",
    "    dollars=salary/100\n",
    "    print('The total money you will earn is: ',dollars)\n",
    "main()"
   ]
  },
  {
   "cell_type": "code",
   "execution_count": 11,
   "metadata": {},
   "outputs": [
    {
     "name": "stdout",
     "output_type": "stream",
     "text": [
      "Enter a positive number: 4\n",
      "Enter a positive number: 3\n",
      "Enter a positive number: 4\n",
      "Enter a positive number: 2\n",
      "Enter a positive number: 4\n",
      "Enter a positive number: 0\n",
      "The total sum of the number you entered is:  17\n"
     ]
    }
   ],
   "source": [
    "def main():\n",
    "    total=0\n",
    "    number=int(input('Enter a positive number: '))\n",
    "    while number >0:\n",
    "        total+=number\n",
    "        number=int(input('Enter a positive number: '))\n",
    "    print('The total sum of the number you entered is: ',total)\n",
    "main()"
   ]
  }
 ],
 "metadata": {
  "kernelspec": {
   "display_name": "Python 3",
   "language": "python",
   "name": "python3"
  },
  "language_info": {
   "codemirror_mode": {
    "name": "ipython",
    "version": 3
   },
   "file_extension": ".py",
   "mimetype": "text/x-python",
   "name": "python",
   "nbconvert_exporter": "python",
   "pygments_lexer": "ipython3",
   "version": "3.7.6"
  }
 },
 "nbformat": 4,
 "nbformat_minor": 4
}
