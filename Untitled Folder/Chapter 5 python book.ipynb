{
 "cells": [
  {
   "cell_type": "markdown",
   "metadata": {},
   "source": [
    "## Capitulo 5 while and for"
   ]
  },
  {
   "cell_type": "code",
   "execution_count": 2,
   "metadata": {},
   "outputs": [
    {
     "name": "stdout",
     "output_type": "stream",
     "text": [
      "Enter the amount of sales: 45\n",
      "Enter the commission rate: 45\n",
      "The commission is $2,025.00\n",
      "Do you want to enter another one?, Enter yy\n",
      "Enter the amount of sales: 35\n",
      "Enter the commission rate: 23\n",
      "The commission is $805.00\n",
      "Do you want to enter another one?, Enter y\n"
     ]
    }
   ],
   "source": [
    "def main():\n",
    "    keep_going='y'\n",
    "    while keep_going=='y':\n",
    "        sales=float(input('Enter the amount of sales: '))\n",
    "        comm_rate=float(input('Enter the commission rate: '))\n",
    "        commission=sales*comm_rate\n",
    "        print('The commission is $', format(commission,',.2f'),sep='')\n",
    "        keep_going=input('Do you want to enter another one?, Enter y')\n",
    "main()\n",
    "    "
   ]
  },
  {
   "cell_type": "code",
   "execution_count": null,
   "metadata": {
    "scrolled": true
   },
   "outputs": [],
   "source": [
    "def main():\n",
    "    print('I will display the numbers 1 through 5.')\n",
    "    for num in [1,2,3,4,5]:\n",
    "        print(num)\n",
    "main()"
   ]
  },
  {
   "cell_type": "code",
   "execution_count": 12,
   "metadata": {},
   "outputs": [
    {
     "name": "stdout",
     "output_type": "stream",
     "text": [
      "2\n",
      "12\n",
      "22\n",
      "32\n",
      "42\n",
      "52\n",
      "62\n",
      "72\n",
      "82\n",
      "92\n"
     ]
    }
   ],
   "source": [
    "def main():\n",
    "    for num in range(2,102,10): #los no. 2 y 102 establecen ls rangos y ultimo no. \"2\" es indicar que la serie sea cada dos no. \n",
    "        print(num)\n",
    "main()\n"
   ]
  },
  {
   "cell_type": "code",
   "execution_count": 13,
   "metadata": {},
   "outputs": [
    {
     "name": "stdout",
     "output_type": "stream",
     "text": [
      "Number\tSquare\n",
      "--------------\n",
      "1 \t 1\n",
      "2 \t 4\n",
      "3 \t 9\n",
      "4 \t 16\n",
      "5 \t 25\n",
      "6 \t 36\n",
      "7 \t 49\n",
      "8 \t 64\n",
      "9 \t 81\n",
      "10 \t 100\n"
     ]
    }
   ],
   "source": [
    "def main():\n",
    "    print('Number\\tSquare')\n",
    "    print('--------------')\n",
    "    for number in range (1,11):\n",
    "        square=number**2\n",
    "        print(number,'\\t',square)\n",
    "main()"
   ]
  },
  {
   "cell_type": "code",
   "execution_count": 1,
   "metadata": {},
   "outputs": [
    {
     "name": "stdout",
     "output_type": "stream",
     "text": [
      "this program display a list of numbers\n",
      "(starting at 1) and their squares\n",
      "How high should I go? 6\n",
      "\n",
      "Number\tSquare\n",
      "--------------\n",
      "1 \t 1\n",
      "2 \t 4\n",
      "3 \t 9\n",
      "4 \t 16\n",
      "5 \t 25\n",
      "6 \t 36\n"
     ]
    }
   ],
   "source": [
    "def main():\n",
    "    print('this program display a list of numbers')\n",
    "    print('(starting at 1) and their squares')\n",
    "    end=int(input('How high should I go? '))\n",
    "    print()\n",
    "    print('Number\\tSquare')\n",
    "    print('--------------')\n",
    "    for number in range (1,end+1):\n",
    "        square=number**2\n",
    "        print(number,'\\t',square)\n",
    "main()"
   ]
  },
  {
   "cell_type": "code",
   "execution_count": 1,
   "metadata": {},
   "outputs": [
    {
     "name": "stdout",
     "output_type": "stream",
     "text": [
      "this program display a list of numbers\n",
      "(starting at 1) and their squares\n",
      "Enter the starting number4\n",
      "How high should I go? 7\n",
      "\n",
      "Number\tSquare\n",
      "--------------\n",
      "4 \t 16\n",
      "5 \t 25\n",
      "6 \t 36\n",
      "7 \t 49\n"
     ]
    }
   ],
   "source": [
    "def main():\n",
    "    print('this program display a list of numbers')\n",
    "    print('(starting at 1) and their squares')\n",
    "    star=int(input('Enter the starting number '))\n",
    "    end=int(input('How high should I go? '))\n",
    "    print()\n",
    "    print('Number\\tSquare')\n",
    "    print('--------------')\n",
    "    for number in range (star,end+1):\n",
    "        square=number**2\n",
    "        print(number,'\\t',square)\n",
    "main()"
   ]
  },
  {
   "cell_type": "code",
   "execution_count": 3,
   "metadata": {},
   "outputs": [
    {
     "name": "stdout",
     "output_type": "stream",
     "text": [
      "1\n",
      "2\n",
      "3\n",
      "4\n",
      "5\n"
     ]
    }
   ],
   "source": [
    "def main():\n",
    "    for num in range (1,6):\n",
    "        print(num)\n",
    "main()"
   ]
  },
  {
   "cell_type": "code",
   "execution_count": 4,
   "metadata": {},
   "outputs": [
    {
     "name": "stdout",
     "output_type": "stream",
     "text": [
      "0\n",
      "1\n",
      "2\n",
      "3\n",
      "4\n",
      "5\n"
     ]
    }
   ],
   "source": [
    "def main():\n",
    "    for num in range(6):\n",
    "        print(num)\n",
    "main()"
   ]
  },
  {
   "cell_type": "markdown",
   "metadata": {},
   "source": [
    "# Accumulator\n",
    "#### +=  -=  *=  /=  %="
   ]
  },
  {
   "cell_type": "code",
   "execution_count": 5,
   "metadata": {},
   "outputs": [
    {
     "name": "stdout",
     "output_type": "stream",
     "text": [
      "this program calculates the sum of 5 numbers you will enter\n",
      "Enter a number: 1\n",
      "Enter a number: 2\n",
      "Enter a number: 3\n",
      "Enter a number: 4\n",
      "Enter a number: 5\n",
      "the total is:  15.0\n"
     ]
    }
   ],
   "source": [
    "MAX=5\n",
    "def main():\n",
    "    total=0.0 #cuando se hace un accumulator es importante empezar con 0 \n",
    "    print('this program calculates the sum of', MAX, 'numbers you will enter')\n",
    "    for counter in range (MAX):\n",
    "        number=int(input('Enter a number: '))\n",
    "        total+=number # +=, -=, *=, /=, %= sirven para hacer: x=x+1 en este caso total=total+number asigna nuevo valor\n",
    "    print('the total is: ',total)\n",
    "main()"
   ]
  },
  {
   "cell_type": "code",
   "execution_count": 1,
   "metadata": {},
   "outputs": [
    {
     "name": "stdout",
     "output_type": "stream",
     "text": [
      "15\n"
     ]
    }
   ],
   "source": [
    "total=0\n",
    "for count in range (1,6):\n",
    "    total+=count\n",
    "print(total)"
   ]
  },
  {
   "cell_type": "code",
   "execution_count": 8,
   "metadata": {},
   "outputs": [
    {
     "name": "stdout",
     "output_type": "stream",
     "text": [
      "15\n",
      "5\n"
     ]
    }
   ],
   "source": [
    "n1=10\n",
    "n2=5\n",
    "n1=n1+n2\n",
    "print(n1)\n",
    "print(n2)"
   ]
  },
  {
   "cell_type": "code",
   "execution_count": null,
   "metadata": {},
   "outputs": [],
   "source": [
    "quant=+=1\n",
    "days_l-=5\n",
    "price*=10\n",
    "price/=2"
   ]
  },
  {
   "cell_type": "markdown",
   "metadata": {},
   "source": [
    "## Sentinel number"
   ]
  },
  {
   "cell_type": "code",
   "execution_count": 9,
   "metadata": {},
   "outputs": [
    {
     "name": "stdout",
     "output_type": "stream",
     "text": [
      "Enter the property lot number\n",
      "or enter 0 to end\n",
      "Lot number: 2\n",
      "Enter the property value: 234\n",
      "Property tax: $1.52\n",
      "Enter the property lot number\n",
      "or enter 0 to end\n",
      "Lot number: 0\n"
     ]
    }
   ],
   "source": [
    "#Sentinel number para indicar que ya acabaste de registrar datos y acabar el loop\n",
    "tax_factor=0.0065\n",
    "def main():\n",
    "    print('Enter the property lot number')\n",
    "    print('or enter 0 to end')\n",
    "    lot=int(input('Lot number: '))\n",
    "    while lot !=0: # != expresión para declarar la sentinel expression (para acabar un loop)\n",
    "        show_tax()\n",
    "        print('Enter the property lot number')\n",
    "        print('or enter 0 to end')\n",
    "        lot=int(input('Lot number: '))\n",
    "def show_tax():\n",
    "    value=float(input('Enter the property value: '))\n",
    "    tax=value*tax_factor\n",
    "    print('Property tax: $',format(tax, ',.2f'),sep='')\n",
    "main()"
   ]
  },
  {
   "cell_type": "markdown",
   "metadata": {},
   "source": [
    "# Input validation loop \n",
    "\n",
    "Llamado tambien: Error trap or error handler\n",
    "Sirve para validar un input y asegurarse de no meter data erronea"
   ]
  },
  {
   "cell_type": "code",
   "execution_count": 11,
   "metadata": {},
   "outputs": [
    {
     "name": "stdout",
     "output_type": "stream",
     "text": [
      "Enter the items wholesale cost: 45\n",
      "Retail price: $ 112.50\n",
      "Do you have another item?(Enter y for yes):y\n",
      "Enter the items wholesale cost: -3\n",
      "ERROR: the cost cannot ne negative.\n",
      "Enter the items wholesale cost: 34\n",
      "Retail price: $ 85.00\n",
      "Do you have another item?(Enter y for yes):n\n"
     ]
    }
   ],
   "source": [
    "mark_up=2.5\n",
    "def main():\n",
    "    another='y'\n",
    "    while another=='y' or another=='Y':\n",
    "        show_retail()\n",
    "        another=input('Do you have another item?'+ \\\n",
    "                     '(Enter y for yes):')\n",
    "def show_retail():\n",
    "    wholesale=float(input('Enter the items wholesale cost: '))\n",
    "    while wholesale <0:\n",
    "        print('ERROR: the cost cannot ne negative.')\n",
    "        wholesale=float(input('Enter the items wholesale cost: '))\n",
    "    retail=wholesale*mark_up\n",
    "    print('Retail price: $',format(retail, ',.2f'))\n",
    "main()"
   ]
  },
  {
   "cell_type": "markdown",
   "metadata": {},
   "source": [
    "# Nested Loops\n",
    "### a loop inside another loop"
   ]
  },
  {
   "cell_type": "code",
   "execution_count": 20,
   "metadata": {},
   "outputs": [
    {
     "name": "stdout",
     "output_type": "stream",
     "text": [
      "hola\n"
     ]
    }
   ],
   "source": [
    "for hour in range (24):\n",
    "    for minutes in range(60):\n",
    "        for seconds in range(60):\n",
    "            print(hour,':',minutes,':',seconds)"
   ]
  },
  {
   "cell_type": "code",
   "execution_count": 2,
   "metadata": {},
   "outputs": [
    {
     "name": "stdout",
     "output_type": "stream",
     "text": [
      "Enter the number os students: 3\n",
      "Enter the number of test scores per student: 4\n",
      "Studen number 1\n",
      "--------------\n",
      "Test Number 1: 78\n",
      "Test Number 2: 86\n",
      "Test Number 3: 90\n",
      "Test Number 4: 100\n",
      "The averavege for student number 1 is:  88.5\n",
      "\n",
      "Studen number 2\n",
      "--------------\n",
      "Test Number 1: 89\n",
      "Test Number 2: 97\n",
      "Test Number 3: 78\n",
      "Test Number 4: 86\n",
      "The averavege for student number 2 is:  87.5\n",
      "\n",
      "Studen number 3\n",
      "--------------\n",
      "Test Number 1: 789\n",
      "Test Number 2: 7\n",
      "Test Number 3: 6\n",
      "Test Number 4: 8\n",
      "The averavege for student number 3 is:  202.5\n",
      "\n"
     ]
    }
   ],
   "source": [
    "num_students=int(input('Enter the number os students: '))\n",
    "num_test_scores=int(input('Enter the number of test scores per student: '))\n",
    "\n",
    "for student in range (num_students):\n",
    "    total=0.0\n",
    "    print('Studen number', student+1)\n",
    "    print('--------------')\n",
    "    for test_num in range (num_test_scores):\n",
    "        print('Test Number', test_num+1, end='')\n",
    "        score=float(input(': '))\n",
    "        total +=score\n",
    "    average=total/num_test_scores\n",
    "    print('The averavege for student number',student+1, 'is: ',average)\n",
    "    print()\n",
    "        "
   ]
  },
  {
   "cell_type": "code",
   "execution_count": 6,
   "metadata": {},
   "outputs": [
    {
     "name": "stdout",
     "output_type": "stream",
     "text": [
      "******\n",
      "******\n",
      "******\n",
      "******\n",
      "******\n",
      "******\n",
      "******\n",
      "******\n"
     ]
    }
   ],
   "source": [
    "for R in range (8):\n",
    "    for col in range(6):\n",
    "        print('*',end='')\n",
    "    print()"
   ]
  },
  {
   "cell_type": "code",
   "execution_count": 7,
   "metadata": {},
   "outputs": [
    {
     "name": "stdout",
     "output_type": "stream",
     "text": [
      "how many rows?: 4\n",
      "How many columns?: 5\n",
      "*****\n",
      "*****\n",
      "*****\n",
      "*****\n"
     ]
    }
   ],
   "source": [
    "rows=int(input('how many rows?: '))\n",
    "cols=int(input('How many columns?: '))\n",
    "for R in range (rows):\n",
    "    for col in range(cols):\n",
    "        print('*',end='')\n",
    "    print()"
   ]
  },
  {
   "cell_type": "code",
   "execution_count": 8,
   "metadata": {},
   "outputs": [
    {
     "name": "stdout",
     "output_type": "stream",
     "text": [
      "how many rows to grow in the program?: 5\n",
      "*\n",
      "**\n",
      "***\n",
      "****\n",
      "*****\n"
     ]
    }
   ],
   "source": [
    "size=int(input('how many rows to grow in the program?: '))\n",
    "for r in range(size):\n",
    "    for c in range(r+1):\n",
    "        print('*',end='')\n",
    "    print()"
   ]
  },
  {
   "cell_type": "code",
   "execution_count": 10,
   "metadata": {},
   "outputs": [
    {
     "name": "stdout",
     "output_type": "stream",
     "text": [
      "how many steps in the program?: 7\n",
      "#\n",
      " #\n",
      "  #\n",
      "   #\n",
      "    #\n",
      "     #\n",
      "      #\n"
     ]
    }
   ],
   "source": [
    "steps=int(input('how many steps in the program?: '))\n",
    "for r in range(steps):\n",
    "    for c in range(r):\n",
    "        print(' ',end='')\n",
    "    print('#')"
   ]
  },
  {
   "cell_type": "code",
   "execution_count": null,
   "metadata": {},
   "outputs": [],
   "source": []
  }
 ],
 "metadata": {
  "kernelspec": {
   "display_name": "Python 3",
   "language": "python",
   "name": "python3"
  },
  "language_info": {
   "codemirror_mode": {
    "name": "ipython",
    "version": 3
   },
   "file_extension": ".py",
   "mimetype": "text/x-python",
   "name": "python",
   "nbconvert_exporter": "python",
   "pygments_lexer": "ipython3",
   "version": "3.7.6"
  }
 },
 "nbformat": 4,
 "nbformat_minor": 4
}
